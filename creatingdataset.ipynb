{
  "nbformat": 4,
  "nbformat_minor": 0,
  "metadata": {
    "colab": {
      "provenance": [],
      "authorship_tag": "ABX9TyMk9tKB8qR9456R0jnsoAXt",
      "include_colab_link": true
    },
    "kernelspec": {
      "name": "python3",
      "display_name": "Python 3"
    },
    "language_info": {
      "name": "python"
    }
  },
  "cells": [
    {
      "cell_type": "markdown",
      "metadata": {
        "id": "view-in-github",
        "colab_type": "text"
      },
      "source": [
        "<a href=\"https://colab.research.google.com/github/neethj/Music_data_Analysis/blob/main/creatingdataset.ipynb\" target=\"_parent\"><img src=\"https://colab.research.google.com/assets/colab-badge.svg\" alt=\"Open In Colab\"/></a>"
      ]
    },
    {
      "cell_type": "code",
      "source": [
        "pip install spotipy"
      ],
      "metadata": {
        "colab": {
          "base_uri": "https://localhost:8080/"
        },
        "id": "OubPnv_Kwibj",
        "outputId": "da6629df-914a-4eed-f537-ce62005a5849"
      },
      "execution_count": 2,
      "outputs": [
        {
          "output_type": "stream",
          "name": "stdout",
          "text": [
            "Collecting spotipy\n",
            "  Downloading spotipy-2.23.0-py3-none-any.whl (29 kB)\n",
            "Collecting redis>=3.5.3 (from spotipy)\n",
            "  Downloading redis-5.0.1-py3-none-any.whl (250 kB)\n",
            "\u001b[2K     \u001b[90m━━━━━━━━━━━━━━━━━━━━━━━━━━━━━━━━━━━━━━━\u001b[0m \u001b[32m250.3/250.3 kB\u001b[0m \u001b[31m8.1 MB/s\u001b[0m eta \u001b[36m0:00:00\u001b[0m\n",
            "\u001b[?25hRequirement already satisfied: requests>=2.25.0 in /usr/local/lib/python3.10/dist-packages (from spotipy) (2.31.0)\n",
            "Requirement already satisfied: six>=1.15.0 in /usr/local/lib/python3.10/dist-packages (from spotipy) (1.16.0)\n",
            "Requirement already satisfied: urllib3>=1.26.0 in /usr/local/lib/python3.10/dist-packages (from spotipy) (2.0.4)\n",
            "Requirement already satisfied: async-timeout>=4.0.2 in /usr/local/lib/python3.10/dist-packages (from redis>=3.5.3->spotipy) (4.0.3)\n",
            "Requirement already satisfied: charset-normalizer<4,>=2 in /usr/local/lib/python3.10/dist-packages (from requests>=2.25.0->spotipy) (3.2.0)\n",
            "Requirement already satisfied: idna<4,>=2.5 in /usr/local/lib/python3.10/dist-packages (from requests>=2.25.0->spotipy) (3.4)\n",
            "Requirement already satisfied: certifi>=2017.4.17 in /usr/local/lib/python3.10/dist-packages (from requests>=2.25.0->spotipy) (2023.7.22)\n",
            "Installing collected packages: redis, spotipy\n",
            "Successfully installed redis-5.0.1 spotipy-2.23.0\n"
          ]
        }
      ]
    },
    {
      "cell_type": "code",
      "execution_count": 18,
      "metadata": {
        "id": "CNFcvNm3vbP0"
      },
      "outputs": [],
      "source": [
        "import spotipy\n",
        "import spotipy.util as util\n",
        "from spotipy.oauth2 import SpotifyClientCredentials\n",
        "import pandas as pd\n"
      ]
    },
    {
      "cell_type": "code",
      "source": [
        "playlist_link = \"https://open.spotify.com/playlist/37i9dQZEVXbNG2KDcFcKOF?si=1333723a6eff4b7f\"\n",
        "playlist_URI = playlist_link.split(\"/\")[-1].split(\"?\")[0]\n",
        "track_uris = [x[\"track\"][\"uri\"] for x in sp.playlist_tracks(playlist_URI)[\"items\"]]"
      ],
      "metadata": {
        "id": "-3e-s30kQVcc"
      },
      "execution_count": null,
      "outputs": []
    },
    {
      "cell_type": "code",
      "source": [
        "CLIENT_ID = \"762019a93a6f4743b83e8b4d48f67808\"\n",
        "CLIENT_SECRET = \"bb9d14aa372842168dd5d1172cec2647\""
      ],
      "metadata": {
        "id": "f7OHoDp3wfH2"
      },
      "execution_count": 4,
      "outputs": []
    },
    {
      "cell_type": "code",
      "source": [
        "auth_manager = SpotifyClientCredentials(client_id=CLIENT_ID, client_secret=CLIENT_SECRET) # does authentication with spotify\n",
        "sp = spotipy.Spotify(auth_manager=auth_manager) # sp is the object that can be used whenever connection to cpotify is necessary"
      ],
      "metadata": {
        "id": "XrcmRN4dw1Zg"
      },
      "execution_count": 19,
      "outputs": []
    },
    {
      "cell_type": "code",
      "source": [
        "sp.me"
      ],
      "metadata": {
        "colab": {
          "base_uri": "https://localhost:8080/"
        },
        "id": "1trWDvWrIEAG",
        "outputId": "ea86fe42-b1f6-4f51-c235-4e527504e3ee"
      },
      "execution_count": 20,
      "outputs": [
        {
          "output_type": "execute_result",
          "data": {
            "text/plain": [
              "<bound method Spotify.me of <spotipy.client.Spotify object at 0x7a05979a7c10>>"
            ]
          },
          "metadata": {},
          "execution_count": 20
        }
      ]
    },
    {
      "cell_type": "markdown",
      "source": [
        "albums = sp.search(q='album:'+'shape',type='album', limit=5)\n",
        "albums"
      ],
      "metadata": {
        "id": "dB-LvTCOJkxz"
      }
    },
    {
      "cell_type": "code",
      "source": [
        "playlist_link = \"https://open.spotify.com/playlist/37i9dQZF1DX6J5NfMJS675?si=00b457a4188747ae\"\n",
        "playlist_URI = playlist_link.split(\"/\")[-1].split(\"?\")[0]\n",
        "track_uris = [x[\"track\"][\"uri\"] for x in sp.playlist_tracks(playlist_URI)[\"items\"]]"
      ],
      "metadata": {
        "id": "SCRp5ttf9eox"
      },
      "execution_count": 28,
      "outputs": []
    },
    {
      "cell_type": "code",
      "source": [
        "playlist_link = \"https://open.spotify.com/playlist/37i9dQZEVXbNG2KDcFcKOF?si=1333723a6eff4b7f\"\n",
        "playlist_URI = playlist_link.split(\"/\")[-1].split(\"?\")[0]\n",
        "track_uris = [x[\"track\"][\"uri\"] for x in sp.playlist_tracks(playlist_URI)[\"items\"]]"
      ],
      "metadata": {
        "id": "W3VU7ZyJQXju"
      },
      "execution_count": 25,
      "outputs": []
    },
    {
      "cell_type": "code",
      "source": [
        "for track in sp.playlist_tracks(playlist_URI)[\"items\"]:\n",
        "    #URI\n",
        "    track_uri = track[\"track\"][\"uri\"]\n",
        "\n",
        "    #Track name\n",
        "    track_name = track[\"track\"][\"name\"]\n",
        "\n",
        "    #Main Artist\n",
        "    artist_uri = track[\"track\"][\"artists\"][0][\"uri\"]\n",
        "    artist_info = sp.artist(artist_uri)\n",
        "\n",
        "    #Name, popularity, genre\n",
        "    artist_name = track[\"track\"][\"artists\"][0][\"name\"]\n",
        "    artist_pop = artist_info[\"popularity\"]\n",
        "    artist_genres = artist_info[\"genres\"]\n",
        "\n",
        "    #Album\n",
        "    album = track[\"track\"][\"album\"][\"name\"]\n",
        "\n",
        "    #Popularity of the track\n",
        "    track_pop = track[\"track\"][\"popularity\"]"
      ],
      "metadata": {
        "id": "HSofYbc8QYPe"
      },
      "execution_count": 29,
      "outputs": []
    },
    {
      "cell_type": "code",
      "source": [
        "sp.audio_features(track_uri)[0]"
      ],
      "metadata": {
        "colab": {
          "base_uri": "https://localhost:8080/"
        },
        "id": "lHxTy0bhRDiZ",
        "outputId": "1f22eafa-3a4d-47d2-9916-6160b51195e1"
      },
      "execution_count": 32,
      "outputs": [
        {
          "output_type": "execute_result",
          "data": {
            "text/plain": [
              "{'danceability': 0.708,\n",
              " 'energy': 0.886,\n",
              " 'key': 7,\n",
              " 'loudness': -10.401,\n",
              " 'mode': 1,\n",
              " 'speechiness': 0.047,\n",
              " 'acousticness': 0.054,\n",
              " 'instrumentalness': 0.857,\n",
              " 'liveness': 0.111,\n",
              " 'valence': 0.253,\n",
              " 'tempo': 141.985,\n",
              " 'type': 'audio_features',\n",
              " 'id': '55UH9Vbv1fLyYe3KvFYTW0',\n",
              " 'uri': 'spotify:track:55UH9Vbv1fLyYe3KvFYTW0',\n",
              " 'track_href': 'https://api.spotify.com/v1/tracks/55UH9Vbv1fLyYe3KvFYTW0',\n",
              " 'analysis_url': 'https://api.spotify.com/v1/audio-analysis/55UH9Vbv1fLyYe3KvFYTW0',\n",
              " 'duration_ms': 230764,\n",
              " 'time_signature': 4}"
            ]
          },
          "metadata": {},
          "execution_count": 32
        }
      ]
    },
    {
      "cell_type": "code",
      "source": [],
      "metadata": {
        "id": "tKJoBC2ETETY"
      },
      "execution_count": null,
      "outputs": []
    }
  ]
}